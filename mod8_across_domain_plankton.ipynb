{
 "cells": [
  {
   "cell_type": "markdown",
   "metadata": {},
   "source": [
    "# Module 8 - Using plankton ResNets across domains\n",
    "\n",
    "How well do classifier that have been trained on other plankton data work on new stuff? Different regions of taxanomic tree? Different instruments?"
   ]
  },
  {
   "cell_type": "markdown",
   "metadata": {},
   "source": [
    "This module will be about playing around with what you already learned. As usual, start by loading the packages you need. "
   ]
  },
  {
   "cell_type": "code",
   "execution_count": null,
   "metadata": {},
   "outputs": [],
   "source": [
    "import sys\n",
    "import os\n",
    "import torch\n",
    "from torch import nn\n",
    "from torch.utils.data import DataLoader\n",
    "from torchvision.datasets import ImageFolder\n",
    "import numpy as np\n",
    "from sklearn.model_selection import train_test_split\n",
    "from sklearn.ensemble import RandomForestClassifier\n",
    "\n",
    "sys.path.insert(1, os.path.join(os.getcwd(),'computer-vision-workshop/utilities'))\n",
    "from custom_torch_utils import ImageFolderWithPaths\n",
    "from display_utils import make_confmat"
   ]
  },
  {
   "cell_type": "markdown",
   "metadata": {},
   "source": [
    "Eric and Martin already trained a model on the ZooScan dataset before the workshop and saved it using [`torch.save`](https://pytorch.org/tutorials/beginner/saving_loading_models.html#save-load-entire-model). Load it and have a look at the structure of the model:"
   ]
  },
  {
   "cell_type": "code",
   "execution_count": null,
   "metadata": {},
   "outputs": [],
   "source": [
    "MODEL_FN = os.path.join(os.getcwd(), 'computer-vision-workshop/models', \"zooscan.pth\")\n",
    "\n",
    "# NB weights_only flag allows model load from older pytorch weights. Setting the flag as false\n",
    "# is generally not good practice because it can also pull a lot of other garbage into your workspace. \n",
    "# Onlly force a model load in this fashion if you trust the source.\n",
    "model = torch.load(MODEL_FN, weights_only=False)\n",
    "\n",
    "print(model)"
   ]
  },
  {
   "cell_type": "markdown",
   "metadata": {},
   "source": [
    "Strip away the classifier layer (*fc*) to receive a feature extractor (like we did in [Module 5](mod5_resnet_feature_extractor.ipynb)), activate [evaluation mode](https://docs.pytorch.org/docs/stable/generated/torch.nn.Module.html#torch.nn.Module.eval) and [move the model to the GPU](https://docs.pytorch.org/docs/stable/generated/torch.nn.Module.html#torch.nn.Module.cuda)."
   ]
  },
  {
   "cell_type": "code",
   "execution_count": null,
   "metadata": {},
   "outputs": [],
   "source": [
    "feature_extractor = ..."
   ]
  },
  {
   "cell_type": "markdown",
   "metadata": {},
   "source": [
    "Let's apply the feature extractor (that was trained on ZooScan data) to the SPC data.\n",
    "\n",
    "First, load the SPC dataset.\n",
    "You can use the regular `ImageFolder` or the custom `ImageFolderWithPaths`.\n",
    "Keep in mind, that you will need to apply some *transformations* to fit the image data to the network."
   ]
  },
  {
   "cell_type": "code",
   "execution_count": null,
   "metadata": {},
   "outputs": [],
   "source": [
    "dataset = ..."
   ]
  },
  {
   "cell_type": "markdown",
   "metadata": {},
   "source": [
    "Then PyTorch needs a `DataLoader` that prepares the batches that can be send through the GPU."
   ]
  },
  {
   "cell_type": "code",
   "execution_count": null,
   "metadata": {},
   "outputs": [],
   "source": [
    "loader = DataLoader(...)"
   ]
  },
  {
   "cell_type": "markdown",
   "metadata": {},
   "source": [
    "Now we are ready to send the data from the loader through the network. Keep in mind that (besides the features themselves) you will need to store the label of each image. "
   ]
  },
  {
   "cell_type": "code",
   "execution_count": null,
   "metadata": {},
   "outputs": [],
   "source": [
    "# We will collect the calculated features in this list\n",
    "features = []\n",
    "\n",
    "# You may need more lists like these for possible other data\n",
    "\n",
    "# We don't need to calculate gradients\n",
    "with torch.no_grad():\n",
    "    # Show a nice progress bar\n",
    "    with tqdm_notebook(loader, desc=\"Evaluating\") as loader:\n",
    "        for ... in loader:\n",
    "            # Copy the input data to GPU\n",
    "            ...\n",
    "\n",
    "            # Apply the feature_extractor to the input data an\n",
    "            batch_features = feature_extractor(...)\n",
    "            \n",
    "            # Copy the batch_features back to the cpu and convert to a numpy array\n",
    "            batch_features = batch_features.cpu().numpy()\n",
    "            \n",
    "            # Do the same for possible other data (labels, paths, ...)\n",
    "            ...\n",
    "            \n",
    "            # Append the batch data to the list\n",
    "            features.extend(batch_features)\n",
    "            \n",
    "            # Do the same for possible other data\n",
    "            ...\n",
    "        \n",
    "# Convert the collected values to numpy arrays\n",
    "features = np.array(features)\n",
    "\n",
    "# Do the same for possible other data\n",
    "...\n",
    "\n",
    "print(\"Shape of features (N_images, N_features):\", features.shape)"
   ]
  },
  {
   "cell_type": "markdown",
   "metadata": {},
   "source": [
    "[`sklearn.model_selection.train_test_split`](https://scikit-learn.org/stable/modules/generated/sklearn.model_selection.train_test_split.html) is another way of splitting data into distinct sets. Use it to split the features (and possible other data):"
   ]
  },
  {
   "cell_type": "code",
   "execution_count": null,
   "metadata": {},
   "outputs": [],
   "source": [
    "features_train, features_test, ... = train_test_split(features, ...)\n",
    "\n",
    "print(\"Training features shape:\", features_train.shape)\n",
    "print(\"Testing features shape:\", features_test.shape)"
   ]
  },
  {
   "cell_type": "markdown",
   "metadata": {},
   "source": [
    "Instanciate a [RandomForestClassifier](https://scikit-learn.org/stable/modules/generated/sklearn.ensemble.RandomForestClassifier.html) and train it on the training features. Decide on reasonable parameters."
   ]
  },
  {
   "cell_type": "code",
   "execution_count": null,
   "metadata": {},
   "outputs": [],
   "source": [
    "rf = RandomForestClassifier(...)\n",
    "..."
   ]
  },
  {
   "cell_type": "markdown",
   "metadata": {},
   "source": [
    "Now, evaluate the Random Forest Classifier. Look at [accuracy](https://scikit-learn.org/stable/modules/generated/sklearn.metrics.accuracy_score.html), [precision and recall](https://scikit-learn.org/stable/modules/generated/sklearn.metrics.classification_report.html) and the confusion matrix."
   ]
  },
  {
   "cell_type": "code",
   "execution_count": null,
   "metadata": {},
   "outputs": [],
   "source": [
    "predictions = ...\n",
    "\n",
    "acc = ...\n",
    "\n",
    "# show a confusion matrix\n",
    "make_confmat(..., predictions, acc)"
   ]
  },
  {
   "cell_type": "markdown",
   "metadata": {},
   "source": [
    "## Excercises\n",
    "\n",
    "- What happens, if you also strip away the AdaptiveAvgPool2d layer (*avgpool*)? Play around with the numbers of layers that are retained in the feature extractor.\n",
    "- Try other classifiers (e.g. [SVM](https://scikit-learn.org/stable/modules/generated/sklearn.svm.SVC.html))."
   ]
  }
 ],
 "metadata": {
  "kernelspec": {
   "display_name": "cv-workshop",
   "language": "python",
   "name": "cv-workshop"
  },
  "language_info": {
   "codemirror_mode": {
    "name": "ipython",
    "version": 3
   },
   "file_extension": ".py",
   "mimetype": "text/x-python",
   "name": "python",
   "nbconvert_exporter": "python",
   "pygments_lexer": "ipython3",
   "version": "3.13.7"
  }
 },
 "nbformat": 4,
 "nbformat_minor": 4
}
