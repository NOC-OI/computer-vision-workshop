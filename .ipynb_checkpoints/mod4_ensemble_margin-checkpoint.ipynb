{
 "cells": [
  {
   "cell_type": "markdown",
   "metadata": {
    "collapsed": true
   },
   "source": [
    "# Module 4 - Margin and Ensemble Classifiers\n",
    "\n",
    "Before the popularization of deep learning, many applied automatic classification algorithms were variations on ensemble or margin classifiers. Both types of classifiers operate on pre-defined features. As we will see later, this is fundamentally different from neural networks which can learn directly from the images. For now, we will make use of the features pulled from SPC data in the last module."
   ]
  },
  {
   "cell_type": "code",
   "execution_count": 1,
   "metadata": {},
   "outputs": [],
   "source": [
    "import numpy as np\n",
    "import cv2\n",
    "import skimage\n",
    "from sklearn import ensemble\n",
    "import sys\n",
    "import glob\n",
    "import os\n",
    "import random\n",
    "import matplotlib.pyplot\n",
    "sys.path.append(os.path.join(os.getcwd(),'utilities'))\n",
    "from display_utils import make_confmat"
   ]
  },
  {
   "cell_type": "markdown",
   "metadata": {},
   "source": [
    "The important new toolkit we are importing here is *sklearn*, short for scikit-image. It contains most of the tools we will use to explore margin and ensemble classifiers.\n",
    "\n",
    "For all the techinques discussed in the rest of this module, we will make use of the same features we computed before. We will also need to divide it into seperate sets for training and testing. "
   ]
  },
  {
   "cell_type": "code",
   "execution_count": 2,
   "metadata": {},
   "outputs": [
    {
     "name": "stdout",
     "output_type": "stream",
     "text": [
      "class 0 : Ciliate 01 , num images: 424\n",
      "class 1 : Glob , num images: 16\n",
      "class 2 : Acantharea , num images: 24\n",
      "class 3 : Poop 01 , num images: 63\n",
      "class 4 : Bubble , num images: 331\n",
      "class 5 : Sphere 01 , num images: 38\n",
      "class 6 : Bad Seg , num images: 249\n",
      "class 7 : Akashiwo , num images: 447\n",
      "class 8 : Polykrikos , num images: 331\n",
      "class 9 : Nauplius , num images: 336\n",
      "class 10 : Ellipse 01 , num images: 43\n",
      "class 11 : Lingulodinium , num images: 653\n",
      "class 12 : Protoperidinium Feeding , num images: 11\n",
      "class 13 : Ciliate 02 , num images: 14\n",
      "class 14 : Chain 01 , num images: 352\n",
      "class 15 : Diatom chain , num images: 60\n",
      "class 16 : Round 01 , num images: 65\n",
      "class 17 : Phyto Mix 01 , num images: 895\n",
      "class 18 : Ciliate 03 , num images: 24\n",
      "class 19 : Ceratium fusus , num images: 1011\n",
      "class 20 : Avocado 01 , num images: 62\n",
      "class 21 : Ceratium furca two , num images: 38\n",
      "class 22 : Cochlodinium , num images: 332\n",
      "class 23 : Red Eye , num images: 44\n",
      "class 24 : Prorocentrum Skinny , num images: 472\n",
      "class 25 : Penate , num images: 135\n",
      "class 26 : Star 01 , num images: 34\n",
      "class 27 : Dual Blobs , num images: 81\n",
      "class 28 : Ceratium furca , num images: 1411\n",
      "class 29 : Blob Group , num images: 11\n",
      "class 30 : Prorocentrum , num images: 1112\n",
      "class 31 : Bubble Like , num images: 361\n",
      "class 32 : Skinny Mix 01 , num images: 2052\n",
      "class 33 : Aggregate Mix , num images: 7289\n",
      "class 34 : Protoperidinium sp , num images: 198\n",
      "class 35 : Blobble , num images: 400\n",
      "class 36 : Spear 01 , num images: 524\n",
      "class 37 : Sand , num images: 740\n",
      "Total class: 38 , Total images: 20678\n"
     ]
    }
   ],
   "source": [
    "# load in the data. first get all the file paths\n",
    "ptf = glob.glob(os.path.join(\"/media/storage/image_data/SPC_data/manual_labels_features/\",\"*.csv\"))\n",
    "\n",
    "# initalize a dictionary for the data. This will contain all the file paths and the associated features\n",
    "data = dict()\n",
    "\n",
    "# we will also create a flag and a listto give the labels a numeric value\n",
    "flag = 0\n",
    "cls_names = []\n",
    "\n",
    "for line in ptf:\n",
    "\n",
    "    # read in the data, but skip the image path\n",
    "    temp = np.genfromtxt(line, usecols=range(1,71),delimiter=\",\")\n",
    "    \n",
    "    # get the image path, making sure to specify that the data type is string\n",
    "    temp_path = np.genfromtxt(line, usecols= [0], delimiter=\",\", dtype=np.str)\n",
    "    \n",
    "    # for now, we will ignore any classes with fewer than 10 samples\n",
    "    if 10 < temp.shape[0]:\n",
    "        \n",
    "        # now we are creating a \"nested dictionary.\" Each element is referenced by the image id and contains the features\n",
    "        # and numeric class label\n",
    "        for img, feats in zip(temp_path, temp):\n",
    "            data[img] = {'features': feats, 'class': flag}\n",
    "            \n",
    "        # create a list of the names of the categories and the associated numbers\n",
    "        name = line.split('/')[-1].split('_')[0]\n",
    "        print(\"class\", str(flag), \":\", name, \n",
    "              \", num images:\", str(temp.shape[0]))\n",
    "        cls_names.append((flag, name))\n",
    "        \n",
    "        flag+=1\n",
    "\n",
    "print(\"Total class:\", str(flag), \", Total images:\", str(len(data)))"
   ]
  },
  {
   "cell_type": "markdown",
   "metadata": {},
   "source": [
    "We now have 38 classes, comprising a total of 20678 samples. The nested dictionary is how we will interact with the data. Each data point is identified by its image ID that is saved as a dictionary key.\n",
    "\n",
    "Note that we are using python 3.6 which by default preserves the order of the dictionary. That is, the order of the key-value pairs will remain the same as how they were inserted into the dictionary no matter what. If for some reason you use an earlier version of python, be aware that the order may not be preserved. "
   ]
  },
  {
   "cell_type": "code",
   "execution_count": 3,
   "metadata": {},
   "outputs": [
    {
     "name": "stdout",
     "output_type": "stream",
     "text": [
      "the first sample is: SPCP2-1522716755-312771-000-584-2524-224-128.jpg\n"
     ]
    }
   ],
   "source": [
    "# to get a list of all the dictionary keys use Python's built in list command and the dictionary method keys()\n",
    "img_ids = list(data.keys())\n",
    "\n",
    "print(\"the first sample is:\", img_ids[0])"
   ]
  },
  {
   "cell_type": "markdown",
   "metadata": {},
   "source": [
    "We will use this later to display images after they have been classifier. We can call up the information from that particular image by calling that key's associated values from the dictionary."
   ]
  },
  {
   "cell_type": "code",
   "execution_count": 4,
   "metadata": {},
   "outputs": [
    {
     "name": "stdout",
     "output_type": "stream",
     "text": [
      "SPCP2-1522716755-312771-000-584-2524-224-128.jpg has two keys that can be referenced: dict_keys(['features', 'class'])\n"
     ]
    }
   ],
   "source": [
    "# get the data related to a particular sample put the key in square brackets\n",
    "# remember, the data is store as a dictionary itself. We can also print those keys in the same way\n",
    "\n",
    "print(img_ids[0], \"has two keys that can be referenced:\", data[img_ids[0]].keys())"
   ]
  },
  {
   "cell_type": "markdown",
   "metadata": {},
   "source": [
    "Now we can call the features and the class of that first sample."
   ]
  },
  {
   "cell_type": "code",
   "execution_count": 5,
   "metadata": {},
   "outputs": [
    {
     "name": "stdout",
     "output_type": "stream",
     "text": [
      "the numeric class is: 0\n",
      "the features are: [  5.67235429e-01   8.06082589e-01   2.07103476e-02   8.06082589e-01\n",
      "   2.31120000e+04   8.23555686e-01   1.71543325e+02   0.00000000e+00\n",
      "   2.84408754e-01   2.12988031e-02   5.75023115e-05   1.03953474e-04\n",
      "   7.80014848e-09   1.38600425e-05   1.93731586e-09   2.59058582e-01\n",
      "   4.84876658e-02   2.20199150e-01   4.62453373e-02   9.70800133e-03\n",
      "   1.31577215e-01   3.45316281e+00   1.79048225e+00   2.35758892e+00\n",
      "   4.25905750e+00   6.33965540e+00   7.17331783e+00   7.08213941e+00\n",
      "   9.46854563e-01   9.37746789e-01   9.11843519e-01   8.76248868e-01\n",
      "   8.59548187e-01   8.64953747e-01   9.08297483e-01   9.03828887e-01\n",
      "   8.84937543e-01   8.45380756e-01   8.25986643e-01   8.34588555e-01\n",
      "   7.12060569e-01   6.21818771e-01   3.28782904e-01   7.30131012e-02\n",
      "   2.06799996e-02   2.69482227e-02   3.39578263e-01   3.40777531e-01\n",
      "   3.92849714e-01   5.25042430e-01   3.86037203e-01   8.28412190e-01\n",
      "   6.53627647e-03   5.30657990e-03   6.19726627e-03   8.81415748e-03\n",
      "   7.97889650e-03   1.21267275e-02   2.99716221e-03   2.34471189e-03\n",
      "   4.52606471e-03   8.25828231e-03   9.35631091e-03   1.39371760e-02\n",
      "   5.38336198e-02   5.41400982e-02   5.96717599e-02   7.35480302e-02\n",
      "   4.29941437e-02   3.35367335e-02]\n"
     ]
    }
   ],
   "source": [
    "# to retrieve the class\n",
    "print(\"the numeric class is:\", data[img_ids[0]]['class'])\n",
    "\n",
    "# and the features\n",
    "print(\"the features are:\",  data[img_ids[0]]['features'])"
   ]
  },
  {
   "cell_type": "markdown",
   "metadata": {},
   "source": [
    "Now that we have all the data in the workspace, we need to divide it up for training and testing. That is we need to seperate out a subset of the training data to use as an independent set to assess how well the classifier is doing. \n",
    "\n",
    "To do the data dictionary needs to be randomized and split into a training and test set. Here we will use an 80-20 train-test split; 80% of the data will be used to train and 20% will be reserved for testing. "
   ]
  },
  {
   "cell_type": "code",
   "execution_count": 6,
   "metadata": {},
   "outputs": [
    {
     "name": "stdout",
     "output_type": "stream",
     "text": [
      "The new first entry is: SPCP2-1524738233-071765-001-252-2152-120-96.jpg\n"
     ]
    }
   ],
   "source": [
    "# to avoid copying the dictionary multiple times, we will randomize the list of keys (ie the image IDs) we made above.\n",
    "random.shuffle(img_ids)\n",
    "\n",
    "# print one out to double check\n",
    "print(\"The new first entry is:\", img_ids[0])"
   ]
  },
  {
   "cell_type": "code",
   "execution_count": 7,
   "metadata": {},
   "outputs": [
    {
     "name": "stdout",
     "output_type": "stream",
     "text": [
      "cut off for 80-20 split: 16542\n",
      "number of training images: 16542\n",
      "nubmer of test images: 4136\n"
     ]
    }
   ],
   "source": [
    "# now we can split the list into training and test sets based on the number of entries\n",
    "idx = 0.8*len(img_ids)\n",
    "\n",
    "train_ids = img_ids[0:int(idx)]  # this will copy all the image ids from 0 to the 80% cut-off\n",
    "test_ids = img_ids[int(idx)::]  # this will copy all the image ids from the cut-off to the end\n",
    "\n",
    "# double check\n",
    "print(\"cut off for 80-20 split:\", str(int(idx)))\n",
    "print(\"number of training images:\", str(len(train_ids)))\n",
    "print(\"nubmer of test images:\", str(len(test_ids)))"
   ]
  },
  {
   "cell_type": "markdown",
   "metadata": {},
   "source": [
    "Excellent. Now that the data is imported into the workspace in an organized way, we can begin training and testing classifiers. The same training and test data will be used for the both margin and ensemble classifiers. \n",
    "\n",
    "## Margin classifiers\n",
    "\n",
    "A margin classifier seperates data in a space by assigning a distance between each point and the decision boundary. Imagine that we have just 2 features, $x_{1}$ and $x_{2}$, to seperate two classes. We can plot the points in a plane and find a line that seperates them.\n",
    "\n",
    "\n",
    "<figure>\n",
    "    <img src=\"https://upload.wikimedia.org/wikipedia/commons/b/b5/Svm_separating_hyperplanes_%28SVG%29.svg\">\n",
    "    <figcaption>\n",
    "        Points and hyperplanes. Courtesy: ZackWeinberg, via Wikipedia\n",
    "    </figcaption>\n",
    "</figure>\n",
    "        \n",
    "\n",
    "The line labeled $H_{3}$ is the best linear discriminant of this data. \n",
    "\n",
    "A classic and widely used margin classifier is the *support vector machine* (SVM). SVMs search a space, definied by the features, to find the optimal seperating hyperplane (ie a plane in many dimensions). In the example above, it would iteratively try many lines such as $H_{1}$ and $H_{2}$ before eventually settling on a particular plane.\n",
    "\n",
    "We will use the implimentation in SKLearn, svc -- a class that contains all functions need to train, test, and deplpoy a SVM. Do note however, that fitting a SVM is computationally expensive and scale quadratically. In other words, training an SVM with O(10k) samples becomes really time consuming and memory hungry.  "
   ]
  },
  {
   "cell_type": "markdown",
   "metadata": {
    "collapsed": true
   },
   "source": [
    "## Ensemble classifiers\n",
    "\n",
    "Rather than relying on the results of a single classifer, ensemble classifier combine the results of many smaller classifiers. There are many ways of generating such a collection of computer classifiers. Here we will focus on the popular random forest (RFs) models. \n",
    "\n",
    "RFs build a collection of decision trees built from a random selection of the feature set. A single decision tree is a type of flow chart: each node in the tree is a test on a single feature and each branch denotes the outcome. A terminal node, or leaf, represents the tree's final classification.\n",
    "\n",
    "A single decsion tree tends to overfit the data -- it become really good at representing the training data but does not generalize well to new data. RFs get around this by creating many trees, using a random subsample of features and training examples for each tree. A new sample is then fed into every tree and the results averaged at the end to come to a final decision.\n",
    "\n",
    "To train a RF in python we will use the sklearn's ensemble methods."
   ]
  },
  {
   "cell_type": "code",
   "execution_count": 8,
   "metadata": {},
   "outputs": [],
   "source": [
    "# note we are only using a few of the RF parameters. There are many ways to modify this\n",
    "rf_clf = ensemble.RandomForestClassifier(n_estimators=30, n_jobs=8, verbose=1)"
   ]
  },
  {
   "cell_type": "markdown",
   "metadata": {},
   "source": [
    "We have not trained the classifier yet. The code above defines an instance *rf_clf* of the class *RandomForestClassifier*. The parameters we added define a few things:\n",
    "\n",
    "* n_estimators is the number of trees. For now we are just using 30\n",
    "* n_jobs parallalizes the process. It subdivides the process out to some number of cores. This speeds up training and is limited by the hardware you are working on. \n",
    "* verbose just tells sklearn they we want feedback as it is training. \n",
    "\n",
    "There are loads of other parameters that can change how the classifier behaves. For our purposes, mostly using defaults will suffice. Note that we are not exlicitly defining the number of features the will be used in each random tree. The default as set by sklearn is $\\sqrt(n_features)$. This is generally a good rule of thumb.\n",
    "\n",
    "To train the classifier we need to give it data. This is done with the *fit* method of the *RandomForestClassifier*."
   ]
  },
  {
   "cell_type": "code",
   "execution_count": 9,
   "metadata": {},
   "outputs": [
    {
     "name": "stdout",
     "output_type": "stream",
     "text": [
      "train features dim: (16542, 70)\n",
      "train labels dim: (16542,)\n"
     ]
    }
   ],
   "source": [
    "# to train it, feed in the features and labels\n",
    "\n",
    "# pull out the features for the training data\n",
    "# the next line uses \"list comprehension\" to pull out the feature vectors only from the trianing data\n",
    "train_features = [data[line]['features'] for line in train_ids]\n",
    "train_features = np.asarray(train_features)  # convert to an array\n",
    "\n",
    "# retrieve the numeric classes of the training data\n",
    "train_labels = [data[line]['class'] for line in train_ids]\n",
    "train_labels = np.asarray(train_labels)  # convert to an array\n",
    "\n",
    "# check to make sure these numbers are right. We expect the training features to be a matrix with \n",
    "# dimensions [n_images x n_features] and the training labels to be a matrix with dimensions [n_images x 1]\n",
    "print(\"train features dim:\", train_features.shape)\n",
    "print(\"train labels dim:\", train_labels.shape)"
   ]
  },
  {
   "cell_type": "code",
   "execution_count": 10,
   "metadata": {},
   "outputs": [
    {
     "name": "stderr",
     "output_type": "stream",
     "text": [
      "[Parallel(n_jobs=8)]: Using backend ThreadingBackend with 8 concurrent workers.\n",
      "[Parallel(n_jobs=8)]: Done  30 out of  30 | elapsed:    0.9s finished\n"
     ]
    },
    {
     "data": {
      "text/plain": [
       "RandomForestClassifier(bootstrap=True, class_weight=None, criterion='gini',\n",
       "            max_depth=None, max_features='auto', max_leaf_nodes=None,\n",
       "            min_impurity_decrease=0.0, min_impurity_split=None,\n",
       "            min_samples_leaf=1, min_samples_split=2,\n",
       "            min_weight_fraction_leaf=0.0, n_estimators=30, n_jobs=8,\n",
       "            oob_score=False, random_state=None, verbose=1,\n",
       "            warm_start=False)"
      ]
     },
     "execution_count": 10,
     "metadata": {},
     "output_type": "execute_result"
    }
   ],
   "source": [
    "# now plug into the fit method. this step might take a little while\n",
    "rf_clf.fit(train_features, train_labels)"
   ]
  },
  {
   "cell_type": "markdown",
   "metadata": {},
   "source": [
    "All done! The classifier is trained. Now we can test it on the independent set that it has not seen yet. "
   ]
  },
  {
   "cell_type": "code",
   "execution_count": 11,
   "metadata": {},
   "outputs": [
    {
     "name": "stdout",
     "output_type": "stream",
     "text": [
      "test features dim: (4136, 70)\n",
      "test labels dim: (4136,)\n"
     ]
    }
   ],
   "source": [
    "# to test it, feed in the features and labels from the test data\n",
    "\n",
    "# pull out the features for the test data\n",
    "# the next line uses \"list comprehension\" to pull out the feature vectors only from the trianing data\n",
    "test_features = [data[line]['features'] for line in test_ids]\n",
    "test_features = np.asarray(test_features)  # convert to an array\n",
    "\n",
    "# retrieve the numeric classes of the training data\n",
    "test_labels = [data[line]['class'] for line in test_ids]\n",
    "test_labels = np.asarray(test_labels)  # convert to an array\n",
    "\n",
    "# check to make sure these numbers are right. We expect the test features to be a matrix with \n",
    "# dimensions [n_images x n_features] and the test labels to be a matrix with dimensions [n_images x 1]\n",
    "print(\"test features dim:\", test_features.shape)\n",
    "print(\"test labels dim:\", test_labels.shape)"
   ]
  },
  {
   "cell_type": "code",
   "execution_count": 12,
   "metadata": {},
   "outputs": [
    {
     "name": "stdout",
     "output_type": "stream",
     "text": [
      "0.7166344294 % correct\n"
     ]
    },
    {
     "name": "stderr",
     "output_type": "stream",
     "text": [
      "[Parallel(n_jobs=8)]: Using backend ThreadingBackend with 8 concurrent workers.\n",
      "[Parallel(n_jobs=8)]: Done  30 out of  30 | elapsed:    0.0s finished\n"
     ]
    }
   ],
   "source": [
    "# now plug it into the trained classifier\n",
    "acc = rf_clf.score(test_features, test_labels)\n",
    "\n",
    "print(acc, '% correct')"
   ]
  },
  {
   "cell_type": "markdown",
   "metadata": {},
   "source": [
    "Not too bad. But we need a way of visualizing what classes it had trouble with. "
   ]
  },
  {
   "cell_type": "code",
   "execution_count": 13,
   "metadata": {},
   "outputs": [
    {
     "name": "stderr",
     "output_type": "stream",
     "text": [
      "[Parallel(n_jobs=8)]: Using backend ThreadingBackend with 8 concurrent workers.\n",
      "[Parallel(n_jobs=8)]: Done  30 out of  30 | elapsed:    0.0s finished\n"
     ]
    },
    {
     "data": {
      "image/png": "[encoded data removed]",
      "text/plain": [
       "<Figure size 576x576 with 2 Axes>"
      ]
     },
     "metadata": {
      "needs_background": "light"
     },
     "output_type": "display_data"
    }
   ],
   "source": [
    "# get the labels for the test set from the classifier\n",
    "preds = rf_clf.predict(test_features)\n",
    "\n",
    "# make a confusion matrix\n",
    "make_confmat(test_labels, preds, acc)"
   ]
  },
  {
   "cell_type": "markdown",
   "metadata": {},
   "source": [
    "In the ideal case, this matrix would be purely diagonal. The class at index 32 is particularly interesting. There seems to be a lot of data going there. Which one is it?"
   ]
  },
  {
   "cell_type": "code",
   "execution_count": 14,
   "metadata": {},
   "outputs": [
    {
     "data": {
      "text/plain": [
       "(32, 'Skinny Mix 01')"
      ]
     },
     "execution_count": 14,
     "metadata": {},
     "output_type": "execute_result"
    }
   ],
   "source": [
    "cls_names[32]"
   ]
  },
  {
   "cell_type": "markdown",
   "metadata": {},
   "source": [
    "Skinny mix is a mishmash class. It seems like one that the classifier could easily confuse. It is also a big class (~2k images) relative to some of the small ones. This means there is some variability in that might not have been captured in the training data for some of the spase classes. "
   ]
  },
  {
   "cell_type": "code",
   "execution_count": null,
   "metadata": {
    "collapsed": true
   },
   "outputs": [],
   "source": []
  }
 ],
 "metadata": {
  "kernelspec": {
   "display_name": "Python (pytorch)",
   "language": "python",
   "name": "pytorch"
  },
  "language_info": {
   "codemirror_mode": {
    "name": "ipython",
    "version": 3
   },
   "file_extension": ".py",
   "mimetype": "text/x-python",
   "name": "python",
   "nbconvert_exporter": "python",
   "pygments_lexer": "ipython3",
   "version": "3.6.8"
  }
 },
 "nbformat": 4,
 "nbformat_minor": 2
}
